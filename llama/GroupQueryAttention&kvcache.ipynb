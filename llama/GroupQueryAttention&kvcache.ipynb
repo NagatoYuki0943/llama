{
 "cells": [
  {
   "cell_type": "code",
   "execution_count": 107,
   "metadata": {},
   "outputs": [],
   "source": [
    "import math\n",
    "import torch\n",
    "from torch import nn, Tensor\n",
    "from torch.nn import functional as F"
   ]
  },
  {
   "cell_type": "markdown",
   "metadata": {},
   "source": [
    "# GroupQueryAttention: `n_kv_heads < n_heads`"
   ]
  },
  {
   "cell_type": "code",
   "execution_count": 84,
   "metadata": {},
   "outputs": [
    {
     "data": {
      "text/plain": [
       "(64, 4)"
      ]
     },
     "execution_count": 84,
     "metadata": {},
     "output_type": "execute_result"
    }
   ],
   "source": [
    "batch = 10\n",
    "seq_len = 100\n",
    "cache_len = 134\n",
    "dim = 2048\n",
    "n_heads = 32    # q head number\n",
    "n_kv_heads = 8  # kv head number\n",
    "head_dim = dim // n_heads\n",
    "n_repeats = n_heads // n_kv_heads\n",
    "head_dim, n_repeats"
   ]
  },
  {
   "cell_type": "code",
   "execution_count": 85,
   "metadata": {},
   "outputs": [
    {
     "data": {
      "text/plain": [
       "(Linear(in_features=2048, out_features=2048, bias=False),\n",
       " Linear(in_features=2048, out_features=512, bias=False),\n",
       " Linear(in_features=2048, out_features=512, bias=False),\n",
       " Linear(in_features=2048, out_features=2048, bias=False))"
      ]
     },
     "execution_count": 85,
     "metadata": {},
     "output_type": "execute_result"
    }
   ],
   "source": [
    "q_proj = nn.Linear(dim, n_heads * head_dim, bias=False)\n",
    "k_proj = nn.Linear(dim, n_kv_heads * head_dim, bias=False)\n",
    "v_proj = nn.Linear(dim, n_kv_heads * head_dim, bias=False)\n",
    "o_proj = nn.Linear(n_heads * head_dim, dim, bias=False)\n",
    "q_proj, k_proj, v_proj, o_proj"
   ]
  },
  {
   "cell_type": "code",
   "execution_count": 86,
   "metadata": {},
   "outputs": [
    {
     "data": {
      "text/plain": [
       "torch.Size([10, 100, 2048])"
      ]
     },
     "execution_count": 86,
     "metadata": {},
     "output_type": "execute_result"
    }
   ],
   "source": [
    "torch.manual_seed(0)\n",
    "x = torch.randn(batch, seq_len, dim)\n",
    "x.shape"
   ]
  },
  {
   "cell_type": "markdown",
   "metadata": {},
   "source": [
    "# x -> qkv"
   ]
  },
  {
   "cell_type": "code",
   "execution_count": 87,
   "metadata": {},
   "outputs": [
    {
     "data": {
      "text/plain": [
       "(torch.Size([10, 100, 2048]),\n",
       " torch.Size([10, 100, 512]),\n",
       " torch.Size([10, 100, 512]))"
      ]
     },
     "execution_count": 87,
     "metadata": {},
     "output_type": "execute_result"
    }
   ],
   "source": [
    "q = q_proj(x)\n",
    "k = k_proj(x)\n",
    "v = v_proj(x)\n",
    "q.shape, k.shape, v.shape"
   ]
  },
  {
   "cell_type": "markdown",
   "metadata": {},
   "source": [
    "# reshape & transpose"
   ]
  },
  {
   "cell_type": "code",
   "execution_count": 88,
   "metadata": {},
   "outputs": [
    {
     "data": {
      "text/plain": [
       "(torch.Size([10, 32, 100, 64]),\n",
       " torch.Size([10, 8, 100, 64]),\n",
       " torch.Size([10, 8, 100, 64]))"
      ]
     },
     "execution_count": 88,
     "metadata": {},
     "output_type": "execute_result"
    }
   ],
   "source": [
    "q = q.reshape(batch, seq_len, n_heads, head_dim).transpose(1, 2)\n",
    "k = k.reshape(batch, seq_len, n_kv_heads, head_dim).transpose(1, 2)\n",
    "v = v.reshape(batch, seq_len, n_kv_heads, head_dim).transpose(1, 2)\n",
    "q.shape, k.shape, v.shape"
   ]
  },
  {
   "cell_type": "markdown",
   "metadata": {},
   "source": [
    "# apply_rotary_emb"
   ]
  },
  {
   "cell_type": "code",
   "execution_count": 89,
   "metadata": {},
   "outputs": [],
   "source": [
    "def apply_rotary_emb(x: Tensor) -> Tensor:\n",
    "    return x"
   ]
  },
  {
   "cell_type": "code",
   "execution_count": 90,
   "metadata": {},
   "outputs": [],
   "source": [
    "q = apply_rotary_emb(q)\n",
    "k = apply_rotary_emb(k)"
   ]
  },
  {
   "cell_type": "markdown",
   "metadata": {},
   "source": [
    "# cat kvcache"
   ]
  },
  {
   "cell_type": "code",
   "execution_count": 91,
   "metadata": {},
   "outputs": [
    {
     "data": {
      "text/plain": [
       "(torch.Size([10, 8, 134, 64]), torch.Size([10, 8, 134, 64]))"
      ]
     },
     "execution_count": 91,
     "metadata": {},
     "output_type": "execute_result"
    }
   ],
   "source": [
    "torch.manual_seed(0)\n",
    "k_cache = torch.randn(batch, n_kv_heads, cache_len, head_dim)\n",
    "v_cache = torch.randn(batch, n_kv_heads, cache_len, head_dim)\n",
    "k_cache.shape, v_cache.shape"
   ]
  },
  {
   "cell_type": "code",
   "execution_count": 92,
   "metadata": {},
   "outputs": [
    {
     "data": {
      "text/plain": [
       "(torch.Size([10, 8, 234, 64]), torch.Size([10, 8, 234, 64]))"
      ]
     },
     "execution_count": 92,
     "metadata": {},
     "output_type": "execute_result"
    }
   ],
   "source": [
    "k_with_cache = torch.cat((k_cache, k), dim=2)\n",
    "v_with_cache = torch.cat((v_cache, v), dim=2)\n",
    "k_with_cache.shape, v_with_cache.shape"
   ]
  },
  {
   "cell_type": "markdown",
   "metadata": {},
   "source": [
    "# repeat n_kv_heads to n_heads"
   ]
  },
  {
   "cell_type": "code",
   "execution_count": 93,
   "metadata": {},
   "outputs": [
    {
     "data": {
      "text/plain": [
       "tensor(True)"
      ]
     },
     "execution_count": 93,
     "metadata": {},
     "output_type": "execute_result"
    }
   ],
   "source": [
    "def repeat_kv(x: Tensor, n_repeats: int) -> Tensor:\n",
    "    \"\"\"torch.repeat_interleave(x, repeats=n_repeats, dim=1)\"\"\"\n",
    "    if n_repeats == 1:\n",
    "        return x\n",
    "\n",
    "    batch, heads, seq_len, head_dim = x.shape\n",
    "    return x[:, :, None, :, :].expand(batch, heads, n_repeats, seq_len, head_dim) \\\n",
    "        .reshape(batch, heads*n_repeats, seq_len, head_dim)\n",
    "\n",
    "# 完 全 一 致\n",
    "torch.all(repeat_kv(k_with_cache, n_repeats) == torch.repeat_interleave(k_with_cache, repeats=n_repeats, dim=1))"
   ]
  },
  {
   "cell_type": "code",
   "execution_count": 94,
   "metadata": {},
   "outputs": [
    {
     "data": {
      "text/plain": [
       "(torch.Size([10, 32, 234, 64]), torch.Size([10, 32, 234, 64]))"
      ]
     },
     "execution_count": 94,
     "metadata": {},
     "output_type": "execute_result"
    }
   ],
   "source": [
    "k_with_cache = repeat_kv(k_with_cache, n_repeats)\n",
    "v_with_cache = repeat_kv(v_with_cache, n_repeats)\n",
    "k_with_cache.shape, v_with_cache.shape"
   ]
  },
  {
   "cell_type": "markdown",
   "metadata": {},
   "source": [
    "# attn"
   ]
  },
  {
   "cell_type": "code",
   "execution_count": 95,
   "metadata": {},
   "outputs": [
    {
     "data": {
      "text/plain": [
       "torch.Size([10, 32, 100, 234])"
      ]
     },
     "execution_count": 95,
     "metadata": {},
     "output_type": "execute_result"
    }
   ],
   "source": [
    "attn = torch.matmul(q, k_with_cache.transpose(-1, -2)) / math.sqrt(head_dim)\n",
    "attn.shape"
   ]
  },
  {
   "cell_type": "markdown",
   "metadata": {},
   "source": [
    "## create mask"
   ]
  },
  {
   "cell_type": "code",
   "execution_count": 96,
   "metadata": {},
   "outputs": [
    {
     "name": "stdout",
     "output_type": "stream",
     "text": [
      "torch.Size([100, 100])\n"
     ]
    },
    {
     "data": {
      "text/plain": [
       "tensor([[-inf, -inf, -inf,  ..., -inf, -inf, -inf],\n",
       "        [-inf, -inf, -inf,  ..., -inf, -inf, -inf],\n",
       "        [-inf, -inf, -inf,  ..., -inf, -inf, -inf],\n",
       "        ...,\n",
       "        [-inf, -inf, -inf,  ..., -inf, -inf, -inf],\n",
       "        [-inf, -inf, -inf,  ..., -inf, -inf, -inf],\n",
       "        [-inf, -inf, -inf,  ..., -inf, -inf, -inf]])"
      ]
     },
     "execution_count": 96,
     "metadata": {},
     "output_type": "execute_result"
    }
   ],
   "source": [
    "mask = torch.full((seq_len, seq_len), -torch.inf)\n",
    "print(mask.shape)\n",
    "mask"
   ]
  },
  {
   "cell_type": "code",
   "execution_count": 98,
   "metadata": {},
   "outputs": [
    {
     "data": {
      "text/plain": [
       "tensor([[0., -inf, -inf,  ..., -inf, -inf, -inf],\n",
       "        [0., 0., -inf,  ..., -inf, -inf, -inf],\n",
       "        [0., 0., 0.,  ..., -inf, -inf, -inf],\n",
       "        ...,\n",
       "        [0., 0., 0.,  ..., 0., -inf, -inf],\n",
       "        [0., 0., 0.,  ..., 0., 0., -inf],\n",
       "        [0., 0., 0.,  ..., 0., 0., 0.]])"
      ]
     },
     "execution_count": 98,
     "metadata": {},
     "output_type": "execute_result"
    }
   ],
   "source": [
    "# 保留右上角数据的矩阵\n",
    "mask = torch.triu(mask, diagonal=1)\n",
    "mask"
   ]
  },
  {
   "cell_type": "code",
   "execution_count": 99,
   "metadata": {},
   "outputs": [
    {
     "name": "stdout",
     "output_type": "stream",
     "text": [
      "torch.Size([100, 234])\n"
     ]
    },
    {
     "data": {
      "text/plain": [
       "tensor([[0., 0., 0.,  ..., -inf, -inf, -inf],\n",
       "        [0., 0., 0.,  ..., -inf, -inf, -inf],\n",
       "        [0., 0., 0.,  ..., -inf, -inf, -inf],\n",
       "        ...,\n",
       "        [0., 0., 0.,  ..., 0., -inf, -inf],\n",
       "        [0., 0., 0.,  ..., 0., 0., -inf],\n",
       "        [0., 0., 0.,  ..., 0., 0., 0.]])"
      ]
     },
     "execution_count": 99,
     "metadata": {},
     "output_type": "execute_result"
    }
   ],
   "source": [
    "mask = torch.cat((torch.zeros((seq_len, cache_len)), mask), dim=1)\n",
    "print(mask.shape)\n",
    "mask"
   ]
  },
  {
   "cell_type": "markdown",
   "metadata": {},
   "source": [
    "## add mask"
   ]
  },
  {
   "cell_type": "code",
   "execution_count": 100,
   "metadata": {},
   "outputs": [
    {
     "data": {
      "text/plain": [
       "torch.Size([10, 32, 100, 234])"
      ]
     },
     "execution_count": 100,
     "metadata": {},
     "output_type": "execute_result"
    }
   ],
   "source": [
    "if mask is not None:\n",
    "    attn = attn + mask\n",
    "attn.shape"
   ]
  },
  {
   "cell_type": "code",
   "execution_count": 101,
   "metadata": {},
   "outputs": [
    {
     "name": "stdout",
     "output_type": "stream",
     "text": [
      "torch.Size([100, 100])\n"
     ]
    },
    {
     "data": {
      "text/plain": [
       "tensor([[-0.4858,    -inf,    -inf,  ...,    -inf,    -inf,    -inf],\n",
       "        [-0.5556, -0.3688,    -inf,  ...,    -inf,    -inf,    -inf],\n",
       "        [-0.7119,  0.0268,  0.0745,  ...,    -inf,    -inf,    -inf],\n",
       "        ...,\n",
       "        [-0.5759, -0.0379, -0.2373,  ..., -0.3782,    -inf,    -inf],\n",
       "        [ 0.4594, -0.2608,  0.1086,  ..., -0.0264, -0.1705,    -inf],\n",
       "        [-0.2287, -0.2571, -0.4704,  ..., -0.4710, -0.3822, -0.1035]],\n",
       "       grad_fn=<SliceBackward0>)"
      ]
     },
     "execution_count": 101,
     "metadata": {},
     "output_type": "execute_result"
    }
   ],
   "source": [
    "# check attn add mask\n",
    "print(attn[0, 0, :, cache_len:].shape)\n",
    "attn[0, 0, :, cache_len:]"
   ]
  },
  {
   "cell_type": "code",
   "execution_count": 103,
   "metadata": {},
   "outputs": [
    {
     "data": {
      "text/plain": [
       "torch.Size([10, 32, 100, 234])"
      ]
     },
     "execution_count": 103,
     "metadata": {},
     "output_type": "execute_result"
    }
   ],
   "source": [
    "attn = attn.softmax(dim=-1)\n",
    "attn.shape"
   ]
  },
  {
   "cell_type": "code",
   "execution_count": 104,
   "metadata": {},
   "outputs": [
    {
     "data": {
      "text/plain": [
       "torch.Size([10, 32, 100, 64])"
      ]
     },
     "execution_count": 104,
     "metadata": {},
     "output_type": "execute_result"
    }
   ],
   "source": [
    "y = torch.matmul(attn, v_with_cache)\n",
    "y.shape"
   ]
  },
  {
   "cell_type": "markdown",
   "metadata": {},
   "source": [
    "# proj"
   ]
  },
  {
   "cell_type": "code",
   "execution_count": 105,
   "metadata": {},
   "outputs": [
    {
     "data": {
      "text/plain": [
       "torch.Size([10, 100, 2048])"
      ]
     },
     "execution_count": 105,
     "metadata": {},
     "output_type": "execute_result"
    }
   ],
   "source": [
    "y = y.transpose(1, 2).reshape(batch, seq_len, dim)\n",
    "y.shape"
   ]
  },
  {
   "cell_type": "code",
   "execution_count": 106,
   "metadata": {},
   "outputs": [
    {
     "data": {
      "text/plain": [
       "torch.Size([10, 100, 2048])"
      ]
     },
     "execution_count": 106,
     "metadata": {},
     "output_type": "execute_result"
    }
   ],
   "source": [
    "y = o_proj(y)\n",
    "y.shape"
   ]
  },
  {
   "cell_type": "code",
   "execution_count": null,
   "metadata": {},
   "outputs": [],
   "source": []
  }
 ],
 "metadata": {
  "kernelspec": {
   "display_name": "Python 3 (ipykernel)",
   "language": "python",
   "name": "python3"
  },
  "language_info": {
   "codemirror_mode": {
    "name": "ipython",
    "version": 3
   },
   "file_extension": ".py",
   "mimetype": "text/x-python",
   "name": "python",
   "nbconvert_exporter": "python",
   "pygments_lexer": "ipython3",
   "version": "3.11.4"
  }
 },
 "nbformat": 4,
 "nbformat_minor": 4
}
